{
 "cells": [
  {
   "cell_type": "code",
   "execution_count": 1,
   "id": "71c0333b",
   "metadata": {},
   "outputs": [
    {
     "name": "stdout",
     "output_type": "stream",
     "text": [
      "[1, 5, 6, 1, 7, 8, 5, 3, 8, 1, 9, 0, 9, 9, 8, 7, 5, 2, 7, 9, 6, 5, 1, 6, 7, 3, 0, 3, 3, 6, 9, 5, 4, 9, 3, 2, 5, 7, 2, 9, 1, 0, 1, 1, 2, 3, 5, 8, 3, 1, 4, 5, 9, 4, 3, 7, 0, 7, 7, 4, 1, 5, 6, 1, 7, 8, 5, 3, 8, 1, 9, 0, 9, 9, 8, 7, 5, 2, 7, 9, 6, 5, 1, 6, 7, 3, 0, 3, 3, 6, 9, 5, 4, 9, 3, 2, 5, 7, 2, 9]\n"
     ]
    }
   ],
   "source": [
    "import numpy as np\n",
    "\n",
    "def number_bracelet(x, y):\n",
    "    seq = [x, y]\n",
    "    for _ in range(2, 100):\n",
    "        next = (seq[-1] + seq[-2]) % 10\n",
    "        seq.append(next)\n",
    "    return seq\n",
    "\n",
    "# Example\n",
    "x = 1\n",
    "y = 5\n",
    "\n",
    "result = number_bracelet(x, y)\n",
    "print(result)"
   ]
  },
  {
   "cell_type": "code",
   "execution_count": 2,
   "id": "c77e1153",
   "metadata": {},
   "outputs": [
    {
     "name": "stdout",
     "output_type": "stream",
     "text": [
      "Pairs not present in any sequence:\n",
      "(4, 0)\n",
      "(3, 4)\n",
      "(4, 6)\n",
      "(9, 2)\n",
      "(8, 0)\n",
      "(0, 2)\n",
      "(8, 9)\n",
      "(0, 5)\n",
      "(2, 2)\n",
      "(8, 6)\n",
      "(0, 8)\n",
      "(1, 3)\n",
      "(2, 8)\n",
      "(6, 2)\n",
      "(7, 1)\n",
      "(6, 8)\n",
      "(4, 2)\n",
      "(5, 0)\n",
      "(3, 9)\n",
      "(4, 8)\n",
      "(8, 2)\n",
      "(9, 7)\n",
      "(8, 8)\n",
      "(2, 4)\n",
      "(0, 4)\n",
      "(2, 1)\n",
      "(1, 8)\n",
      "(6, 4)\n",
      "(7, 6)\n",
      "(4, 7)\n",
      "(4, 4)\n",
      "(5, 5)\n",
      "(8, 4)\n",
      "(0, 0)\n",
      "(2, 0)\n",
      "(0, 6)\n",
      "(2, 6)\n",
      "(6, 0)\n",
      "(6, 6)\n",
      "(6, 3)\n"
     ]
    }
   ],
   "source": [
    "def find_pairs(*sequences):\n",
    "    all_pairs = set([(i, j) for i in range(10) for j in range(10)])\n",
    "    pairs = set()\n",
    "\n",
    "    for seq in sequences:\n",
    "        pairs |= set(zip(seq, seq[1:]))\n",
    "\n",
    "    not_pairs = all_pairs - pairs\n",
    "\n",
    "    if not not_pairs:\n",
    "        print(\"All pairs are present in the sequences.\")\n",
    "    else:\n",
    "        print(\"Pairs not present in any sequence:\")\n",
    "        for pair in not_pairs:\n",
    "            print(pair)\n",
    "\n",
    "# Finding the missing pairs in the union of the number bracelets\n",
    "sequences = [number_bracelet(1, 5)]\n",
    "\n",
    "not_pairs = find_pairs(*sequences)"
   ]
  },
  {
   "cell_type": "code",
   "execution_count": 3,
   "id": "85c7ce18",
   "metadata": {},
   "outputs": [
    {
     "name": "stdout",
     "output_type": "stream",
     "text": [
      "Pairs not present in any sequence:\n",
      "(3, 4)\n",
      "(9, 2)\n",
      "(8, 9)\n",
      "(0, 5)\n",
      "(1, 3)\n",
      "(7, 1)\n",
      "(6, 8)\n",
      "(4, 2)\n",
      "(5, 0)\n",
      "(3, 9)\n",
      "(9, 7)\n",
      "(2, 1)\n",
      "(1, 8)\n",
      "(7, 6)\n",
      "(4, 7)\n",
      "(5, 5)\n",
      "(8, 4)\n",
      "(0, 0)\n",
      "(2, 6)\n",
      "(6, 3)\n"
     ]
    }
   ],
   "source": [
    "sequences = [\n",
    "    number_bracelet(1, 5),\n",
    "    number_bracelet(4, 0)\n",
    "    # Add more sequences as needed\n",
    "]\n",
    "\n",
    "not_pairs = find_pairs(*sequences)"
   ]
  },
  {
   "cell_type": "code",
   "execution_count": 4,
   "id": "29a065ff",
   "metadata": {},
   "outputs": [
    {
     "name": "stdout",
     "output_type": "stream",
     "text": [
      "Pairs not present in any sequence:\n",
      "(5, 5)\n",
      "(8, 4)\n",
      "(0, 0)\n",
      "(6, 8)\n",
      "(4, 2)\n",
      "(5, 0)\n",
      "(2, 6)\n",
      "(0, 5)\n"
     ]
    }
   ],
   "source": [
    "sequences = [\n",
    "    number_bracelet(1, 5),\n",
    "    number_bracelet(4, 0),\n",
    "    number_bracelet(3, 4)\n",
    "]\n",
    "\n",
    "not_pairs = find_pairs(*sequences)"
   ]
  },
  {
   "cell_type": "code",
   "execution_count": 5,
   "id": "f8303587",
   "metadata": {},
   "outputs": [
    {
     "name": "stdout",
     "output_type": "stream",
     "text": [
      "Pairs not present in any sequence:\n",
      "(8, 4)\n",
      "(0, 0)\n",
      "(6, 8)\n",
      "(4, 2)\n",
      "(2, 6)\n"
     ]
    }
   ],
   "source": [
    "sequences = [\n",
    "    number_bracelet(1, 5),\n",
    "    number_bracelet(4, 0),\n",
    "    number_bracelet(3, 4),\n",
    "    number_bracelet(5, 5)\n",
    "]\n",
    "\n",
    "not_pairs = find_pairs(*sequences)"
   ]
  },
  {
   "cell_type": "code",
   "execution_count": 6,
   "id": "6234e88e",
   "metadata": {},
   "outputs": [
    {
     "name": "stdout",
     "output_type": "stream",
     "text": [
      "Pairs not present in any sequence:\n",
      "(0, 0)\n"
     ]
    }
   ],
   "source": [
    "sequences = [\n",
    "    number_bracelet(1, 5),\n",
    "    number_bracelet(4, 0),\n",
    "    number_bracelet(3, 4),\n",
    "    number_bracelet(5, 5),\n",
    "    number_bracelet(8, 4)\n",
    "]\n",
    "\n",
    "not_pairs = find_pairs(*sequences)"
   ]
  },
  {
   "cell_type": "code",
   "execution_count": 7,
   "id": "8f72b97c",
   "metadata": {},
   "outputs": [
    {
     "name": "stdout",
     "output_type": "stream",
     "text": [
      "All pairs are present in the sequences.\n"
     ]
    }
   ],
   "source": [
    "sequences = [\n",
    "    number_bracelet(1, 5),\n",
    "    number_bracelet(4, 0),\n",
    "    number_bracelet(3, 4),\n",
    "    number_bracelet(5, 5),\n",
    "    number_bracelet(8, 4),\n",
    "    number_bracelet(0, 0)\n",
    "]\n",
    "\n",
    "not_pairs = find_pairs(*sequences)"
   ]
  },
  {
   "cell_type": "code",
   "execution_count": 8,
   "id": "00f42433",
   "metadata": {},
   "outputs": [
    {
     "name": "stdout",
     "output_type": "stream",
     "text": [
      "The sequence with starting pair (1, 5) has period 60\n",
      "The sequence with starting pair (4, 0) has period 20\n",
      "The sequence with starting pair (3, 4) has period 12\n",
      "The sequence with starting pair (5, 5) has period 3\n",
      "The sequence with starting pair (8, 4) has period 4\n",
      "The sequence with starting pair (0, 0) has period 1\n"
     ]
    }
   ],
   "source": [
    "def period_func(*sequences):\n",
    "    periods = []\n",
    "    for seq in sequences:\n",
    "        seq_length = len(seq)\n",
    "        found_period = False\n",
    "        for period_length in range(1, seq_length):\n",
    "            is_periodic = all(seq[i] == seq[i % period_length] for i in range(period_length, seq_length))\n",
    "            if is_periodic:\n",
    "                periods.append((seq[0], seq[1], period_length))\n",
    "                found_period = True\n",
    "                break\n",
    "        if not found_period:\n",
    "            periods.append((seq[0], seq[1], None))\n",
    "    return periods\n",
    "\n",
    "# Example\n",
    "all_sequences = [\n",
    "    number_bracelet(1, 5),\n",
    "    number_bracelet(4, 0),\n",
    "    number_bracelet(3, 4), \n",
    "    number_bracelet(5, 5),\n",
    "    number_bracelet(8, 4),\n",
    "    number_bracelet(0, 0)\n",
    "                ]\n",
    "\n",
    "periods = period_func(*all_sequences)\n",
    "\n",
    "for pair, period in zip([(seq[0], seq[1]) for seq in all_sequences], periods):\n",
    "    if period[2] is not None:\n",
    "        print(f\"The sequence with starting pair {pair} has period {period[2]}\")\n",
    "    else:\n",
    "        print(f\"The sequence with starting pair {pair} is not periodic.\")"
   ]
  }
 ],
 "metadata": {
  "kernelspec": {
   "display_name": "Python 3 (ipykernel)",
   "language": "python",
   "name": "python3"
  },
  "language_info": {
   "codemirror_mode": {
    "name": "ipython",
    "version": 3
   },
   "file_extension": ".py",
   "mimetype": "text/x-python",
   "name": "python",
   "nbconvert_exporter": "python",
   "pygments_lexer": "ipython3",
   "version": "3.11.5"
  }
 },
 "nbformat": 4,
 "nbformat_minor": 5
}
