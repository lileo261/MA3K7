{
 "cells": [
  {
   "cell_type": "code",
   "execution_count": 1,
   "id": "44e81333",
   "metadata": {},
   "outputs": [
    {
     "name": "stdout",
     "output_type": "stream",
     "text": [
      "Expected number of loops with 10 strings: 2.1332555301595546\n"
     ]
    }
   ],
   "source": [
    "def expected_loops(n):\n",
    "    expected_value = 0.0\n",
    "    for i in range(1, 2*n, 2):\n",
    "        expected_value += 1 / i\n",
    "    return expected_value\n",
    "\n",
    "num_strings = 10\n",
    "print(f\"Expected number of loops with {num_strings} strings: {expected_loops(num_strings)}\")"
   ]
  },
  {
   "cell_type": "code",
   "execution_count": 2,
   "id": "39ea22b9",
   "metadata": {},
   "outputs": [
    {
     "name": "stdout",
     "output_type": "stream",
     "text": [
      "Probability of forming a loop of length 10 with 10 is: 0.28377319275152096\n"
     ]
    }
   ],
   "source": [
    "def single_loop(n):\n",
    "    expected_value = 1.0\n",
    "    for i in range(3, 2*n, 2):\n",
    "        expected_value *= 1 - (1 / i)\n",
    "    return expected_value\n",
    "\n",
    "num_strings = 10\n",
    "print(f\"Probability of forming a loop of length {num_strings} with {num_strings} is: {single_loop(num_strings)}\")"
   ]
  }
 ],
 "metadata": {
  "kernelspec": {
   "display_name": "Python 3 (ipykernel)",
   "language": "python",
   "name": "python3"
  },
  "language_info": {
   "codemirror_mode": {
    "name": "ipython",
    "version": 3
   },
   "file_extension": ".py",
   "mimetype": "text/x-python",
   "name": "python",
   "nbconvert_exporter": "python",
   "pygments_lexer": "ipython3",
   "version": "3.11.5"
  }
 },
 "nbformat": 4,
 "nbformat_minor": 5
}
